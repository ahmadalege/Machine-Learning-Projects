{
 "cells": [
  {
   "cell_type": "markdown",
   "metadata": {},
   "source": [
    "#### Importing the Dependencies"
   ]
  },
  {
   "cell_type": "code",
   "execution_count": null,
   "metadata": {},
   "outputs": [],
   "source": [
    "import numpy as np\n",
    "import pandas as pd\n",
    "import matplotlib.pyplot as plt\n",
    "import seaborn as sns\n",
    "from sklearn.model_selection import train_test_split\n",
    "from sklearn.linear_model import LinearRegression\n",
    "from sklearn import metrics"
   ]
  },
  {
   "cell_type": "markdown",
   "metadata": {},
   "source": [
    "##### Data Pre-processing\n"
   ]
  },
  {
   "cell_type": "code",
   "execution_count": null,
   "metadata": {},
   "outputs": [],
   "source": [
    "#Loading the data from csv file to a pandas dataframe\n",
    "insurance_dataset = pd.read_csv('data/insurance.csv')\n",
    "\n",
    "#print the first 5 rows\n",
    "insurance_dataset.head()"
   ]
  },
  {
   "cell_type": "code",
   "execution_count": null,
   "metadata": {},
   "outputs": [],
   "source": [
    "#checking for information about the dataset\n",
    "insurance_dataset.info()"
   ]
  },
  {
   "cell_type": "markdown",
   "metadata": {},
   "source": [
    "##### Data Visualization"
   ]
  },
  {
   "cell_type": "code",
   "execution_count": null,
   "metadata": {},
   "outputs": [],
   "source": [
    "#distribution of age value\n",
    "plt.figure(figsize=(5,5))\n",
    "sns.distplot(insurance_dataset['age'])\n",
    "plt.title('Age Distribution')"
   ]
  },
  {
   "cell_type": "code",
   "execution_count": null,
   "metadata": {},
   "outputs": [],
   "source": [
    "#distribution of gender\n",
    "plt.figure(figsize=(5,5))\n",
    "sns.countplot(data=insurance_dataset, x='sex', hue='sex')\n",
    "plt.title('Gender Distribution')"
   ]
  },
  {
   "cell_type": "code",
   "execution_count": null,
   "metadata": {},
   "outputs": [],
   "source": [
    "#counting the values\n",
    "insurance_dataset['sex'].value_counts()"
   ]
  },
  {
   "cell_type": "code",
   "execution_count": null,
   "metadata": {},
   "outputs": [],
   "source": [
    "#distribution of smokers\n",
    "plt.figure(figsize=(5,5))\n",
    "sns.countplot(data=insurance_dataset, x='smoker', hue='smoker')"
   ]
  },
  {
   "cell_type": "code",
   "execution_count": null,
   "metadata": {},
   "outputs": [],
   "source": [
    "#counting the values\n",
    "insurance_dataset['smoker'].value_counts()"
   ]
  },
  {
   "cell_type": "code",
   "execution_count": null,
   "metadata": {},
   "outputs": [],
   "source": [
    "#checking the BMI distribution\n",
    "plt.figure(figsize=(5,5))\n",
    "sns.distplot(insurance_dataset['bmi'])"
   ]
  },
  {
   "cell_type": "markdown",
   "metadata": {},
   "source": [
    "Normal BMI range -> 18.5 - 24.9"
   ]
  },
  {
   "cell_type": "code",
   "execution_count": null,
   "metadata": {},
   "outputs": [],
   "source": [
    "#distribution of children\n",
    "plt.figure(figsize=(5,5))\n",
    "sns.countplot(data=insurance_dataset, x='children', hue='children')"
   ]
  },
  {
   "cell_type": "code",
   "execution_count": null,
   "metadata": {},
   "outputs": [],
   "source": [
    "#counting the children's column distribution\n",
    "insurance_dataset['children'].value_counts()"
   ]
  },
  {
   "cell_type": "code",
   "execution_count": null,
   "metadata": {},
   "outputs": [],
   "source": [
    "#distribution of children\n",
    "plt.figure(figsize=(5,5))\n",
    "sns.countplot(data=insurance_dataset, x='region', hue='region')"
   ]
  },
  {
   "cell_type": "code",
   "execution_count": null,
   "metadata": {},
   "outputs": [],
   "source": [
    "insurance_dataset['region'].value_counts()"
   ]
  },
  {
   "cell_type": "code",
   "execution_count": null,
   "metadata": {},
   "outputs": [],
   "source": [
    "#charges column distribution\n",
    "plt.figure(figsize=(5,5))\n",
    "sns.distplot(insurance_dataset['charges'])"
   ]
  },
  {
   "cell_type": "markdown",
   "metadata": {},
   "source": [
    "LABEL ENCODING \n",
    "\n",
    "encoding the categorical feautures (sex, smoker and regon)"
   ]
  },
  {
   "cell_type": "code",
   "execution_count": null,
   "metadata": {},
   "outputs": [],
   "source": [
    "#encoding the sex column\n",
    "insurance_dataset.replace({'sex':{'male':0, 'female':1}}, inplace=True)\n",
    "\n",
    "#encoding the smoker column\n",
    "insurance_dataset.replace({'smoker':{'yes':0, 'no':1}}, inplace=True)\n",
    "\n",
    "#encoding the region column\n",
    "insurance_dataset.replace({'region':{'southeast':0, 'southwest':1, 'northeast':2, 'northwest':3}}, inplace=True)"
   ]
  },
  {
   "cell_type": "code",
   "execution_count": null,
   "metadata": {},
   "outputs": [],
   "source": [
    "#splitting into feautures and target variables\n",
    "x = insurance_dataset.drop(columns='charges', axis=1)\n",
    "y = insurance_dataset['charges']"
   ]
  },
  {
   "cell_type": "markdown",
   "metadata": {},
   "source": [
    "#### Model training and Evaluation"
   ]
  },
  {
   "cell_type": "code",
   "execution_count": null,
   "metadata": {},
   "outputs": [],
   "source": [
    "#splitting training and test data\n",
    "x_train, x_test, y_train, y_test = train_test_split(x,y, test_size=0.2, random_state=3)"
   ]
  },
  {
   "cell_type": "code",
   "execution_count": null,
   "metadata": {},
   "outputs": [],
   "source": [
    "#loading linear regression and fitting\n",
    "model = LinearRegression()\n",
    "\n",
    "model.fit(x_train, y_train)"
   ]
  },
  {
   "cell_type": "code",
   "execution_count": null,
   "metadata": {},
   "outputs": [],
   "source": [
    "#model evaluation on training data\n",
    "train_data_predction = model.predict(x_train)\n",
    "\n",
    "#R-Squared error \n",
    "error_score = metrics.r2_score(train_data_predction, y_train)\n",
    "print(\"R squared error is : \", error_score)\n"
   ]
  },
  {
   "cell_type": "code",
   "execution_count": null,
   "metadata": {},
   "outputs": [],
   "source": [
    "#Actual prices vs predicted prices graph\n",
    "plt.figure(figsize=(3,3))\n",
    "plt.scatter(y_train, train_data_predction)\n",
    "plt.ylabel('Predicted pries')\n",
    "plt.title('Actual prices vs predicted prices')"
   ]
  },
  {
   "cell_type": "code",
   "execution_count": null,
   "metadata": {},
   "outputs": [],
   "source": [
    "#model evaluation on test data\n",
    "test_data_predction = model.predict(x_test)\n",
    "\n",
    "#R-Squared error \n",
    "error_score = metrics.r2_score(test_data_predction, y_test)\n",
    "print(\"R squared error is : \", error_score)\n"
   ]
  },
  {
   "cell_type": "code",
   "execution_count": null,
   "metadata": {},
   "outputs": [],
   "source": [
    "#Actual prices vs predicted prices graph\n",
    "plt.figure(figsize=(3,3))\n",
    "plt.scatter(y_test, test_data_predction)\n",
    "plt.ylabel('Predicted pries')\n",
    "plt.title('Actual prices vs predicted prices')"
   ]
  },
  {
   "cell_type": "markdown",
   "metadata": {},
   "source": [
    "Building a predictve system"
   ]
  },
  {
   "cell_type": "code",
   "execution_count": null,
   "metadata": {},
   "outputs": [],
   "source": [
    "input_data = (19,1,27.900,0,0,1)\n",
    "\n",
    "#changng input data to numpy array\n",
    "input_data_np = np.asarray(input_data)\n",
    "\n",
    "#reshape array\n",
    "input_reshaped = input_data_np.reshape(1,-1)\n",
    "\n",
    "prediction = model.predict(input_reshaped)\n",
    "print('The insurance cost is USD', prediction)\n",
    "\n"
   ]
  },
  {
   "cell_type": "code",
   "execution_count": null,
   "metadata": {},
   "outputs": [],
   "source": []
  }
 ],
 "metadata": {
  "kernelspec": {
   "display_name": "base",
   "language": "python",
   "name": "python3"
  },
  "language_info": {
   "codemirror_mode": {
    "name": "ipython",
    "version": 3
   },
   "file_extension": ".py",
   "mimetype": "text/x-python",
   "name": "python",
   "nbconvert_exporter": "python",
   "pygments_lexer": "ipython3",
   "version": "3.11.5"
  }
 },
 "nbformat": 4,
 "nbformat_minor": 2
}
